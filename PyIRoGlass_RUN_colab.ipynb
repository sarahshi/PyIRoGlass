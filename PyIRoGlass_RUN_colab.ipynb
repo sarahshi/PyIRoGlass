{
 "cells": [
  {
   "cell_type": "code",
   "execution_count": null,
   "metadata": {},
   "outputs": [],
   "source": [
    "# %% -*- coding: utf-8 -*-\n",
    "\n",
    "\"\"\" Created on June 12, 2021 // @author: Sarah Shi \"\"\"\n",
    "\n",
    "# This code is a workaround for Google Colab to ensure that NumPy 1.26 is installed. \n",
    "# Note that it will make your Colab runtime restart, which is necessary for the changes to take effect.\n",
    "# http://github.com/googlecolab/colabtools/issues/5115\n",
    "\n",
    "import importlib.metadata\n",
    "desired_version = \"1.26.0\"\n",
    "try:\n",
    "    installed_version = importlib.metadata.version(\"numpy\")\n",
    "    if installed_version == desired_version:\n",
    "        print(f\"NumPy {desired_version} is already installed.\")\n",
    "    else:\n",
    "        print(f\"Installing NumPy {desired_version} (current: {installed_version})...\")\n",
    "        !pip install numpy=={desired_version} --prefer-binary\n",
    "        import os\n",
    "        os._exit(00)  # Restart runtime for changes to take effect\n",
    "except importlib.metadata.PackageNotFoundError:\n",
    "    print(f\"NumPy is not installed. Installing {desired_version}...\")\n",
    "    !pip install numpy=={desired_version} --prefer-binary\n",
    "    import os\n",
    "    os._exit(00)\n",
    "\n",
    "# Import and load Python packages\n",
    "import os\n",
    "import numpy as np\n",
    "import pandas as pd\n",
    "!pip install PyIRoGlass\n",
    "import PyIRoGlass as pig\n",
    "from google.colab import files\n",
    "\n",
    "%matplotlib inline\n",
    "%config InlineBackend.figure_format = 'retina'\n",
    "\n",
    "# Load sample FTIR spectra and chemistry/thickness files for reference. \n",
    "# For downloading the file\n",
    "if not os.path.exists('COLAB_BINDER.zip'):\n",
    "    !wget https://github.com/sarahshi/PyIRoGlass/raw/main/Inputs/COLAB_BINDER.zip\n",
    "\n",
    "# For unzipping the file\n",
    "if not os.path.exists('COLAB_BINDER'):\n",
    "    !unzip COLAB_BINDER.zip\n"
   ]
  },
  {
   "cell_type": "markdown",
   "metadata": {},
   "source": [
    "We've loaded in sample data, with transmission and reflectance FTIR, from the GitHub repository for data format referencing. Examples workflows working with these spectra can be found on the [ReadTheDocs](https://pyiroglass.readthedocs.io/en/latest/). \n",
    "\n",
    "The Google Colab implementation here aims to get your transmission FTIR spectra processed. We remove degrees of freedom to simplify the process. \n",
    "\n",
    "The files necessary include all of your transmission FTIR spectra, as well as 'ChemThick.CSV' file, containing all chemistry and thickness data. Find an example [here](https://github.com/sarahshi/PyIRoGlass/blob/main/Inputs/COLAB_BINDER/Colab_Binder_ChemThick.csv). Ensure that all of your transmission FTIR spectra names (before the .CSV) match up identically with the sample names in the chemistry and thickness file. This is necessary to ensure that the algorithm can match up samples. "
   ]
  },
  {
   "cell_type": "markdown",
   "metadata": {},
   "source": [
    "# Load transmission FTIR spectra here: "
   ]
  },
  {
   "cell_type": "code",
   "execution_count": null,
   "metadata": {},
   "outputs": [],
   "source": [
    "# Specify the directory where you want to save the uploaded files\n",
    "desired_spectra_directory = '/content/YOUR_DATA/TransmissionSpectra/'\n",
    "\n",
    "# Create the directory if it doesn't exist\n",
    "if not os.path.exists(desired_spectra_directory):\n",
    "    os.makedirs(desired_spectra_directory)\n",
    "\n",
    "# Change the current working directory\n",
    "os.chdir(desired_spectra_directory)\n",
    "\n",
    "# Upload the files\n",
    "uploadediles = files.upload()\n"
   ]
  },
  {
   "cell_type": "markdown",
   "metadata": {},
   "source": [
    "# Load ChemThick.CSV here:"
   ]
  },
  {
   "cell_type": "code",
   "execution_count": null,
   "metadata": {},
   "outputs": [],
   "source": [
    "# Specify the directory where you want to save the uploaded files\n",
    "desired_chemthick_directory = '/content/YOUR_DATA/'\n",
    "\n",
    "# Change the current working directory\n",
    "os.chdir(desired_chemthick_directory)\n",
    "\n",
    "# Upload the files\n",
    "uploadediles = files.upload()\n"
   ]
  },
  {
   "cell_type": "markdown",
   "metadata": {},
   "source": [
    "# Run PyIRoGlass here:"
   ]
  },
  {
   "cell_type": "code",
   "execution_count": null,
   "metadata": {},
   "outputs": [],
   "source": [
    "# Change back to the original directory (e.g., '/content')\n",
    "os.chdir('/content/')\n",
    "\n",
    "# Identify all transmission spectra CSVs\n",
    "SPEC_PATH = os.path.join(os.getcwd(), desired_spectra_directory)\n",
    "\n",
    "# Load chemistry and thickness file called Colab_Binder_ChemThick.CSV. If you name the file something else, modify it here.\n",
    "CHEMTHICK_PATH = os.path.join(os.getcwd(), desired_chemthick_directory, 'Colab_Binder_ChemThick.csv')\n",
    "\n",
    "# Set the output path name desired for your sample. We will call our output 'RESULTS'.\n",
    "OUTPUT_PATH = 'RESULTS'\n",
    "\n",
    "# Load a list of files and a dictionary of transmission FTIR spectra from the files identified earlier.\n",
    "loader = pig.SampleDataLoader(SPEC_PATH, CHEMTHICK_PATH)\n",
    "dfs_dict, chem, thick = loader.load_all_data()\n",
    "\n",
    "# Run PyIRoGlass! df_output will be saved as a CSV called OUTPUT_PATH+'_DF.CSV' in the FINALDATA directory.\n",
    "df_output, failures = pig.calculate_baselines(dfs_dict, OUTPUT_PATH)\n",
    "\n",
    "# Default temperature and pressure conditions of analysis are set at 25 C and 1 bar. These are the defaults at LDEO.\n",
    "# df_conc will be saved as a CSV called OUTPUT_PATH+'_H2OCO2.CSV' in the FINALDATA directory.\n",
    "df_conc = pig.calculate_concentrations(df_output, chem, thick, OUTPUT_PATH)"
   ]
  },
  {
   "cell_type": "markdown",
   "metadata": {},
   "source": [
    "# Display results here: "
   ]
  },
  {
   "cell_type": "code",
   "execution_count": null,
   "metadata": {},
   "outputs": [],
   "source": [
    "display(df_output)"
   ]
  },
  {
   "cell_type": "code",
   "execution_count": null,
   "metadata": {},
   "outputs": [],
   "source": [
    "display(df_conc)"
   ]
  }
 ],
 "metadata": {
  "language_info": {
   "name": "python"
  },
  "orig_nbformat": 4
 },
 "nbformat": 4,
 "nbformat_minor": 2
}
